{
 "cells": [
  {
   "cell_type": "markdown",
   "id": "bacdc7bd",
   "metadata": {},
   "source": [
    "## COSC 1210\n",
    "### Variables, Assignment, Arithmetic\n",
    "\n",
    "Objectives\n",
    "- understand conventions of variable names\n",
    "- describe how variable assignment works\n",
    "- do basic arithmetic "
   ]
  },
  {
   "cell_type": "markdown",
   "id": "650ea2a6",
   "metadata": {},
   "source": [
    "Important terms\n",
    "\n",
    "- expression: a combination of values, variables, operators, and function calls that the Python interpreter can evaluate to produce a single value\n",
    "\n",
    "\n",
    "5 + 5\n",
    "\n",
    "a * b\n",
    "\n",
    "10 > 5\n",
    "\n",
    "\n",
    "- statement: complete instruction that the Python interpreter can execute to perform an action\n",
    "\n",
    "\n",
    "b = 5 + 5 # assignment statement\n",
    "\n",
    "if 10 > 5:\n",
    "\n",
    "    do something"
   ]
  },
  {
   "cell_type": "markdown",
   "id": "3e44c008",
   "metadata": {},
   "source": [
    "*Variable naming conventions* \n",
    "\n",
    "A variable name can ...\n",
    "\n",
    "A variable name cannot ..."
   ]
  },
  {
   "cell_type": "code",
   "execution_count": null,
   "id": "2b45b592",
   "metadata": {},
   "outputs": [],
   "source": [
    "# Variable names and Assignment\n",
    "\n",
    "# What is the value of a and b after the following statements are evaluated?\n",
    "\n",
    "a = 10\n",
    "b = 8\n",
    "b = a\n",
    "a=10\n",
    "b=10\n"
   ]
  },
  {
   "cell_type": "markdown",
   "id": "3f8bf308",
   "metadata": {},
   "source": [
    "*Arithmetic operators in python* \n",
    "\n",
    "- addition +\n",
    "- subtraction -\n",
    "- multiplication *\n",
    "- division /\n",
    "- floor division //\n",
    "- modulus operator %\n",
    "- exponentiation **"
   ]
  },
  {
   "cell_type": "code",
   "execution_count": null,
   "id": "eb0359da",
   "metadata": {},
   "outputs": [],
   "source": [
    "# Arithmetic\n",
    "# Give examples expressions with each type of arithmetic operator\n",
    "\n",
    "# Note - to see the value of the expressions, simply put your expression in a print() function to see them displayed below\n",
    "print(5+5)\n",
    "\n"
   ]
  },
  {
   "cell_type": "markdown",
   "id": "77ae01b8",
   "metadata": {},
   "source": [
    "#### Four Fours\n",
    "\n",
    "Calculate the numbers 0 to 10 with four number 4s. You must include four fours, and only four fours\n",
    "\n",
    "e.g., \n",
    "\n",
    "print(4 + 4 - 4 + 4, \" is 0\") # this is correct!\n",
    "\n",
    "print(4 - 4, \" is 0\") # incorrect! You only used two fours\n"
   ]
  },
  {
   "cell_type": "code",
   "execution_count": 20,
   "id": "e55221cf",
   "metadata": {},
   "outputs": [],
   "source": [
    "# Four Fours"
   ]
  }
 ],
 "metadata": {
  "kernelspec": {
   "display_name": "base",
   "language": "python",
   "name": "python3"
  },
  "language_info": {
   "codemirror_mode": {
    "name": "ipython",
    "version": 3
   },
   "file_extension": ".py",
   "mimetype": "text/x-python",
   "name": "python",
   "nbconvert_exporter": "python",
   "pygments_lexer": "ipython3",
   "version": "3.12.2"
  }
 },
 "nbformat": 4,
 "nbformat_minor": 5
}
