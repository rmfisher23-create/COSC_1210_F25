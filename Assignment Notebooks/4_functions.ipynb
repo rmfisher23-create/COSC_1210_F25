{
 "cells": [
  {
   "cell_type": "markdown",
   "id": "9e39443c",
   "metadata": {},
   "source": [
    "## COSC 1210\n",
    "### Functions\n",
    "\n",
    "In this notebook, we will cover\n",
    "- Create your own functions with default parameters\n",
    "- Pass data between functions with tuples\n",
    "- Understand scope in a program\n",
    "- Create flexible functions\n",
    "\n",
    "Based on Deitel Ch 4 (4.1-4.3)"
   ]
  },
  {
   "cell_type": "raw",
   "id": "b802a623",
   "metadata": {
    "vscode": {
     "languageId": "raw"
    }
   },
   "source": [
    "def function_name(formal_parameters, ...):  # function definition\n",
    "    '''docstring that describes IPO'''\n",
    "    a = 10\n",
    "    b = 20\n",
    "    c = 30\n",
    "    return a, b, c  # return values separated by a comma for each value\n",
    "\n",
    "function_name(actual_parameters, ...)   # function caller"
   ]
  },
  {
   "cell_type": "code",
   "execution_count": null,
   "id": "6aff422d",
   "metadata": {},
   "outputs": [],
   "source": [
    "# a simple custom function \n",
    "def simple_funct():\n",
    "    x = input(\"enter something\")\n",
    "    return x\n",
    "    print(\"anything after a return is not run\")\n",
    "\n",
    "def main():\n",
    "    print(simple_funct())\n",
    "main()"
   ]
  },
  {
   "cell_type": "code",
   "execution_count": null,
   "id": "701a32e3",
   "metadata": {},
   "outputs": [],
   "source": [
    "# what if we forget return??\n",
    "def simple_funct():\n",
    "    x = input(\"enter something\")\n",
    "\n",
    "def main():\n",
    "    print(simple_funct())\n",
    "    print(\"when no return is specified from a function, None type is returned\")\n",
    "main()"
   ]
  },
  {
   "cell_type": "code",
   "execution_count": null,
   "id": "3b6428b8",
   "metadata": {},
   "outputs": [],
   "source": [
    "# how are multiple values returned??\n",
    "def function_1(): # no parameters\n",
    "    x = eval(input(\"enter a number\"))\n",
    "    y = eval(input(\"enter another number\"))\n",
    "    return x, y\n",
    "\n",
    "def main():\n",
    "    print(\"the return is\", function_1(), \"and its type is\", type(function_1())) #note the empty parentheses\n",
    "main()"
   ]
  },
  {
   "cell_type": "markdown",
   "id": "207b6cc7",
   "metadata": {},
   "source": [
    "### A note on tuples\n",
    "If a return statement returns multiple variables, it packs them in a tuple. Remember, a tuple is a single object. So, if you need to do something with the tuple, you will need to slice them out.\n",
    "\n",
    "a = (10, 20)\n",
    "\n",
    "num1, num2 = a"
   ]
  },
  {
   "cell_type": "code",
   "execution_count": null,
   "id": "0dc6b551",
   "metadata": {},
   "outputs": [],
   "source": [
    "# Here, three numbers are packed in a tuple\n",
    "a = (10, 20, 30)\n",
    "\n",
    "# use sequential assignment to get the numbers to use individually\n",
    "num1, num2, num3 = a\n",
    "print(num1)\n",
    "print(num2)\n",
    "print(num3)\n",
    "print(num1 + num3)"
   ]
  },
  {
   "cell_type": "code",
   "execution_count": null,
   "id": "c4cd0949",
   "metadata": {},
   "outputs": [],
   "source": [
    "# functions with parameters\n",
    "def function_2(x, y):\n",
    "    return x, y\n",
    "\n",
    "def main():\n",
    "    n1 = eval(input(\"enter a number\"))\n",
    "    n2 = eval(input(\"enter another number\"))\n",
    "    print(function_2(n1, n2)) #note the empty parentheses\n",
    "main()"
   ]
  },
  {
   "cell_type": "markdown",
   "id": "2a49a330",
   "metadata": {},
   "source": [
    "#### **Stop and answer this question**\n",
    "Explain why n1 and n2 don't have to be used in function_2 and x and y can be used instead\n",
    "\n"
   ]
  },
  {
   "cell_type": "markdown",
   "id": "0cae493b",
   "metadata": {},
   "source": [
    "### What about multiple functions?"
   ]
  },
  {
   "cell_type": "code",
   "execution_count": null,
   "id": "a7b3ee2c",
   "metadata": {},
   "outputs": [],
   "source": [
    "# main calls two functions\n",
    "def square(number):\n",
    "    '''Calculate the square of the number\n",
    "    number should be a float or int\n",
    "    '''\n",
    "    return number ** 2\n",
    "\n",
    "def get_user_number():\n",
    "    user_num = eval(input(\"enter a number \"))\n",
    "    return user_num\n",
    "\n",
    "def main():\n",
    "    '''get a user number and square it'''\n",
    "    x_to_square = get_user_number()\n",
    "    sq = square(x_to_square)\n",
    "    print(x, \"squared is\", sq)\n",
    "main()"
   ]
  },
  {
   "cell_type": "markdown",
   "id": "1ec101d9",
   "metadata": {},
   "source": [
    "#### **Stop and answer this question**\n",
    "Draw the structure chart for the code above\n",
    "\n"
   ]
  },
  {
   "cell_type": "markdown",
   "id": "f6f5e77c",
   "metadata": {},
   "source": [
    "#### **Stop and answer this question**\n",
    "Follow the instructions in the code cell below..."
   ]
  },
  {
   "cell_type": "code",
   "execution_count": null,
   "id": "0c6e7554",
   "metadata": {},
   "outputs": [],
   "source": [
    "# create two functions - main() and get_two_numbers()\n",
    "# get_two_numbers should get two numbers from the user and return them \n",
    "# main() should call get_two_numbers and display them\n",
    "\n"
   ]
  },
  {
   "cell_type": "markdown",
   "id": "185c7fd2",
   "metadata": {},
   "source": [
    "#### More examples of functions"
   ]
  },
  {
   "cell_type": "code",
   "execution_count": null,
   "id": "8bf60317",
   "metadata": {},
   "outputs": [],
   "source": [
    "# you need to have as many actual parameters as there are formal parameters\n",
    "def maximum(value1, value2, value3):\n",
    "    \"\"\" Return the maximum of three values\"\"\"\n",
    "    max_value = value1\n",
    "    if value2 > max_value:\n",
    "        max_value = value2\n",
    "    if value3 > max_value:\n",
    "        max_value = value3\n",
    "    return max_value\n",
    "\n",
    "maximum(12, 27,36)"
   ]
  },
  {
   "cell_type": "code",
   "execution_count": null,
   "id": "85c47a35",
   "metadata": {},
   "outputs": [],
   "source": [
    "maximum(12.3, 45.6, 9.7)"
   ]
  },
  {
   "cell_type": "code",
   "execution_count": null,
   "id": "0a260505",
   "metadata": {},
   "outputs": [],
   "source": [
    "maximum(\"yellow\", \"red\", \"orange\")"
   ]
  },
  {
   "cell_type": "code",
   "execution_count": null,
   "id": "d26b92e2",
   "metadata": {},
   "outputs": [],
   "source": [
    "def sum_product(var1, var2):\n",
    "        '''Returns the sum and the product of two number'''\n",
    "        sum1 = var1 + var2\n",
    "        product = var1 * var2\n",
    "        return sum1, product\n",
    "\n",
    "def main():    \n",
    "    sum_product(2,3)\n",
    "main()"
   ]
  },
  {
   "cell_type": "markdown",
   "id": "4166eb9d",
   "metadata": {},
   "source": [
    "#### **Stop and answer this question**\n",
    "Follow the instructions in the code cell below..."
   ]
  },
  {
   "cell_type": "code",
   "execution_count": null,
   "id": "81d34fc5",
   "metadata": {},
   "outputs": [],
   "source": [
    "# Given the code above, why does this give an error??\n",
    "print(sum1)\n",
    "print(sum2)"
   ]
  },
  {
   "cell_type": "markdown",
   "id": "afe467ae",
   "metadata": {},
   "source": [
    "#### What if you don't give all required parameters??\n",
    "Follow the instructions in the code cell below..."
   ]
  },
  {
   "cell_type": "code",
   "execution_count": null,
   "id": "bf8d2e86",
   "metadata": {},
   "outputs": [],
   "source": [
    "def rectangle_area(length, width):\n",
    "    \"\"\"Return a rectangle's area\"\"\"\n",
    "    return length * width\n",
    "\n",
    "def main():\n",
    "    l = int(input(\"enter the length \"))\n",
    "    w = int(input(\"enter the width \"))\n",
    "    print(\"the area is...\")\n",
    "    rectangle_area(l)\n",
    "main()"
   ]
  },
  {
   "cell_type": "markdown",
   "id": "ecef8da3",
   "metadata": {},
   "source": [
    "#### Variable scope\n",
    "Follow the instructions in the code cell below..."
   ]
  },
  {
   "cell_type": "code",
   "execution_count": null,
   "id": "9f3e44af",
   "metadata": {},
   "outputs": [],
   "source": [
    "x = 7\n",
    "\n",
    "def main():\n",
    "    def access_global():\n",
    "        print('x printed from access_global:', x)\n",
    "        \n",
    "    def try_to_modify_global():\n",
    "        x = 3.5\n",
    "        print(\"x printed from try_to_modify_global\", x)\n",
    "\n",
    "    access_global()\n",
    "    try_to_modify_global()\n",
    "    print('x from global', x)\n",
    "main()"
   ]
  },
  {
   "cell_type": "code",
   "execution_count": null,
   "id": "b0e3ae48",
   "metadata": {},
   "outputs": [],
   "source": [
    "# Trace the variables in this function\n",
    "t = 9\n",
    "def a():\n",
    "    t = 5\n",
    "    n = 10\n",
    "    return n, t\n",
    "def b():\n",
    "    c = a()\n",
    "    d, e = c\n",
    "    return d + t\n",
    "def main():\n",
    "    print(a())\n",
    "    print(b())\n",
    "main()"
   ]
  },
  {
   "cell_type": "markdown",
   "id": "974a8cb3",
   "metadata": {},
   "source": [
    "#### **Stop and answer this question**\n",
    "Write a program that has...\n",
    "- three function: main(), a function that calculates Celcius from degrees Fahrenheit, a function that converts inches to cm\n",
    "- the user must enter the inputs in the main() function and the converted values must be passed back to main()\n",
    "- descriptive print displays with correct units\n",
    "- docstrings"
   ]
  },
  {
   "cell_type": "code",
   "execution_count": null,
   "id": "2cf20025",
   "metadata": {},
   "outputs": [],
   "source": []
  }
 ],
 "metadata": {
  "kernelspec": {
   "display_name": "base",
   "language": "python",
   "name": "python3"
  },
  "language_info": {
   "codemirror_mode": {
    "name": "ipython",
    "version": 3
   },
   "file_extension": ".py",
   "mimetype": "text/x-python",
   "name": "python",
   "nbconvert_exporter": "python",
   "pygments_lexer": "ipython3",
   "version": "3.12.2"
  }
 },
 "nbformat": 4,
 "nbformat_minor": 5
}
