{
 "cells": [
  {
   "cell_type": "markdown",
   "id": "9e39443c",
   "metadata": {},
   "source": [
    "## COSC 1210\n",
    "### Overview of Data Types\n",
    "\n",
    "In this notebook, we will cover\n",
    "- Sequences\n",
    "- Dictionaries and Sets\n",
    "- Strings\n",
    "\n",
    "Overview Based on Deitel Ch 5, 6, and 8\n",
    "- we will have a more-detailed separate notebook for each of these topics"
   ]
  },
  {
   "cell_type": "markdown",
   "id": "b802a623",
   "metadata": {
    "vscode": {
     "languageId": "raw"
    }
   },
   "source": [
    "#### Sequences\n",
    "\n",
    "**Ordered** collections of data \n",
    "\n",
    "- Lists: in square brackets [ ] each item is separated by a comma\n",
    "   - heterogeneous - can contain any data type\n",
    "   - indexing - reference specific items in the list\n",
    "   - mutable - you can change them in any way after they are made\n",
    "\n",
    "- Tuples: in round brackets ( ) each item is separated by a comma \n",
    "   - heterogeneous - can contain any data type\n",
    "   - indexing - reference specific items in the list\n",
    "   - nonmutable - cannot change length or value of items after it is created\n",
    "   - data type returned from function (unless return not specified, in which the function returns None type)\n"
   ]
  },
  {
   "cell_type": "code",
   "execution_count": null,
   "id": "6aff422d",
   "metadata": {},
   "outputs": [],
   "source": [
    "### Lists\n",
    "# create a list\n",
    "homogeneous_list = [10, 3, 4, 6, -15] # here, all items are integers\n",
    "\n",
    "heterogeneous_list = ['a', 7, 4.5, [5,6,7], True] # here, all items are different types"
   ]
  },
  {
   "cell_type": "code",
   "execution_count": null,
   "id": "b25734e0",
   "metadata": {},
   "outputs": [],
   "source": [
    "### Tuples\n",
    "# create a tuple\n",
    "homogeneous_tuple = (10, 3, 4, 6, -15) \n",
    "\n",
    "heterogeneous_tuple = ['a', 7, 4.5, [5,6,7], True]"
   ]
  },
  {
   "cell_type": "markdown",
   "id": "8c41ecd0",
   "metadata": {},
   "source": [
    "### Indexing a sequence\n",
    "\n",
    "Python starts counting at 0 \n",
    "\n",
    "So in this list.... homogeneous_list = [10, 3, 4, 6, -15]\n",
    "\n",
    "- The first element is 10 - it is in the 0th index...\n",
    "- The second item is 3 - it is in the 1st index...\n",
    "\n",
    "   - homogeneous_list[0] evaluates to 10\n",
    "   - homogeneous_list[1] evaluates to 3\n",
    "   - homogeneous_list[4] evaluates to -1\n",
    "\n",
    "\n",
    "- You can also index backwards from the end of the list or tuple..\n",
    "   - homogeneous_list[-1] evaluates to -15\n",
    "   - homogeneous_list[-3] evaluates to 4\n"
   ]
  },
  {
   "cell_type": "code",
   "execution_count": null,
   "id": "05f6f977",
   "metadata": {},
   "outputs": [],
   "source": [
    "### Indexing a list (or tuple, this part isn't different)\n",
    "print(homogeneous_list[0])\n",
    "\n",
    "print(homogeneous_tuple[0])"
   ]
  },
  {
   "cell_type": "code",
   "execution_count": null,
   "id": "f1b84897",
   "metadata": {},
   "outputs": [],
   "source": [
    "### Mutating a list - describe what happens when this code is run\n",
    "print(homogeneous_list, \"before the change\")\n",
    "homogeneous_list[3] = 77\n",
    "print(homogeneous_list, \"after the change\")"
   ]
  },
  {
   "cell_type": "markdown",
   "id": "6b226164",
   "metadata": {},
   "source": [
    "#### dot notation .method()\n",
    "Different data types have different methods that can be applied to them\n",
    "\n",
    ".append()\n",
    "\n",
    "your_list.append(thing_to_add_to_end)"
   ]
  },
  {
   "cell_type": "code",
   "execution_count": null,
   "id": "1092bb07",
   "metadata": {},
   "outputs": [],
   "source": [
    "### Example: creating a list of integers\n",
    "\n",
    "def make_list_ints(n):\n",
    "    \"\"\"make a list of integers with n items\"\"\"\n",
    "    new_list = [] # initialize an empty list\n",
    "    for i in range(n):\n",
    "        new_list.append(i)\n",
    "    print(new_list)\n",
    "\n",
    "make_list_ints(6)"
   ]
  },
  {
   "cell_type": "markdown",
   "id": "386e5119",
   "metadata": {},
   "source": [
    "#### **Stop and answer this question**\n",
    "Explain, line for line, what is happening in the code above."
   ]
  },
  {
   "cell_type": "code",
   "execution_count": null,
   "id": "701a32e3",
   "metadata": {},
   "outputs": [],
   "source": [
    "### But we can't mutate a tuple\n",
    "print(homogeneous_tuple, \"before the change\")\n",
    "homogeneous_tuple[3] = 77. ### This will cause an error\n",
    "print(homogeneous_tuple, \"after the change\")"
   ]
  },
  {
   "cell_type": "markdown",
   "id": "207b6cc7",
   "metadata": {},
   "source": [
    "### Dictionaries and Sets\n",
    "**Unordred** collections of data \n",
    "\n",
    "- Dictionaries: key:value pairs { } curly brackets\n",
    "   - keys - any immutable type, generally an integer or string\n",
    "   - keys are unique! \n",
    "   - value - the associated value to a unique key\n",
    "\n",
    "dict1 = {\"key1\": \"value1\", \"key2\": \"value2\", \"key3\": \"value3\", }\n",
    "\n",
    "- Sets: unique sets of data, also curly brackets { }\n",
    "   - we will go into this later..."
   ]
  },
  {
   "cell_type": "code",
   "execution_count": null,
   "id": "0dc6b551",
   "metadata": {},
   "outputs": [],
   "source": [
    "### Dictionaries - creating a dictionary\n",
    "\n",
    "phone_dict = {\"fatima\": 4378099454, \"bob\": 16129994444}\n",
    "print(phone_dict)"
   ]
  },
  {
   "cell_type": "code",
   "execution_count": null,
   "id": "bd0be7a8",
   "metadata": {},
   "outputs": [],
   "source": [
    "### accessing items in a dictionary\n",
    "# dictionary[key]\n",
    "name = \"bob\"\n",
    "print(\"the phone number of\", name,  \"is\", phone_dict[name])\n"
   ]
  },
  {
   "cell_type": "code",
   "execution_count": null,
   "id": "82bbf8fc",
   "metadata": {},
   "outputs": [],
   "source": [
    "### adding new key:value pairs to a dictionary\n",
    "phone_dict[\"marlo\"] = 549823460\n",
    "print(phone_dict)"
   ]
  },
  {
   "cell_type": "code",
   "execution_count": null,
   "id": "f6fc2539",
   "metadata": {},
   "outputs": [],
   "source": [
    "### modifying elements\n",
    "phone_dict[\"bob\"] = 55555555\n",
    "print(phone_dict)"
   ]
  },
  {
   "cell_type": "markdown",
   "id": "2a49a330",
   "metadata": {},
   "source": [
    "#### **Stop and answer this question**\n",
    "Write a function that allows you to combine two lists to make a dictionary\n",
    "\n",
    "Keys:\n",
    "\n",
    "countries = [\"Afghanistan\", \"Angolia\", \"Andorra\", \"Canada\", \"Argentinia\", \"Australia\"]\n",
    "\n",
    "Values: \n",
    "\n",
    "country_codes = [\"AF\", \"AO\", \"AD\", \"CA\", \"AR\", \"AU\"]\n"
   ]
  },
  {
   "cell_type": "markdown",
   "id": "1ec101d9",
   "metadata": {},
   "source": [
    "### Strings"
   ]
  },
  {
   "cell_type": "markdown",
   "id": "79f01849",
   "metadata": {},
   "source": [
    "Strings are any characters in quotes (single, or double quotes). The characters can be numbers, letters, whitespace characters, or other characters\n",
    "\n",
    "- Strings are iterables, meaning you can, for example, iterate over every item with a for loop.\n",
    "- Strings are immutable"
   ]
  },
  {
   "cell_type": "code",
   "execution_count": null,
   "id": "2a0bce35",
   "metadata": {},
   "outputs": [],
   "source": [
    "# Iterating over a string\n",
    "astring = 'abcd'\n",
    "\n",
    "for i in astring:\n",
    "    print(i)"
   ]
  },
  {
   "cell_type": "code",
   "execution_count": null,
   "id": "f0b53845",
   "metadata": {},
   "outputs": [],
   "source": [
    "# indexing a string works the same as indexing a list or tuple\n",
    "print(astring[2])\n",
    "print(astring[-1])"
   ]
  },
  {
   "cell_type": "code",
   "execution_count": null,
   "id": "5961c6ed",
   "metadata": {},
   "outputs": [],
   "source": [
    "# strings are immutable\n",
    "astring[2] = 'f'"
   ]
  },
  {
   "cell_type": "markdown",
   "id": "a956e9c7",
   "metadata": {},
   "source": [
    "#### **Stop and answer this question**\n",
    "Write a function that determines if a string is a palindrome\n"
   ]
  }
 ],
 "metadata": {
  "kernelspec": {
   "display_name": "base",
   "language": "python",
   "name": "python3"
  },
  "language_info": {
   "codemirror_mode": {
    "name": "ipython",
    "version": 3
   },
   "file_extension": ".py",
   "mimetype": "text/x-python",
   "name": "python",
   "nbconvert_exporter": "python",
   "pygments_lexer": "ipython3",
   "version": "3.12.2"
  }
 },
 "nbformat": 4,
 "nbformat_minor": 5
}
