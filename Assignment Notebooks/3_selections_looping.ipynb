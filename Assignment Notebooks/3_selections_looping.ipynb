{
 "cells": [
  {
   "cell_type": "markdown",
   "id": "6bd64481",
   "metadata": {},
   "source": [
    "#### Selections and Looping"
   ]
  },
  {
   "cell_type": "markdown",
   "id": "24bc17b6",
   "metadata": {},
   "source": [
    "Objectives\n",
    "- decide whether to execute actions with if, if..elif..else, and if..else\n",
    "- execute statements repeatedly with for and while\n",
    "- use augmented assignment\n",
    "- use the range function and its parameters\n",
    "- perform sentinel control in a while loop\n",
    "- create complex conditionals\n",
    "- stop looping with break and force next iteration with continue"
   ]
  },
  {
   "cell_type": "raw",
   "id": "69301c8f",
   "metadata": {
    "vscode": {
     "languageId": "raw"
    }
   },
   "source": [
    "if, if/else, if/elif/else\n",
    "\n",
    "Selections in python\n",
    "if <conditional>:\n",
    "    statement\n",
    "else: \n",
    "    statement\n",
    "\n",
    "if <conditional>:\n",
    "    statement\n",
    "elif <conditional>:\n",
    "    statement\n",
    "elif <conditional>\"\n",
    "    statement\n",
    "else:\n",
    "    statement\n"
   ]
  },
  {
   "cell_type": "code",
   "execution_count": null,
   "id": "c8cae2fa",
   "metadata": {},
   "outputs": [],
   "source": [
    "# if, if/else, if/elif/else\n",
    "def main():\n",
    "    '''ask use for a grade and provide the letter grade that is associated'''\n",
    "    grade = eval(input(\"Enter the student grade \"))\n",
    "    if grade >= 90:\n",
    "        print(\"A\")\n",
    "\n",
    "main()"
   ]
  },
  {
   "cell_type": "code",
   "execution_count": null,
   "id": "a5bb9098",
   "metadata": {},
   "outputs": [],
   "source": [
    "# write a program that determines the result of a rock paper scissors game\n",
    "# use the random_throw() function to get a random choice of rock paper scissors from the computer\n",
    "# \n",
    "import random as rand\n",
    "\n",
    "def random_throw():\n",
    "    '''selects a random item from rock, paper, scissors\n",
    "    returns string to user''' \n",
    "    choices = ['rock', 'paper', 'scissors']\n",
    "    return rand.choice(choices)\n",
    "\n",
    "## print(random_throw()) # successful test random_throw()\n",
    "\n",
    "def main():\n",
    "    '''rock paper scissors'''\n",
    "    computer_choice = random_throw()\n",
    "\n",
    "main()"
   ]
  },
  {
   "cell_type": "markdown",
   "id": "45eaa2d9",
   "metadata": {},
   "source": [
    "#### range()\n",
    "\n",
    "We can use the range() function to create lists based on a range of numbers\n",
    "\n",
    "range(start,stop,step)\n",
    "- start: beginning of list\n",
    "- stop: up to but not including this number\n",
    "- step: the count up or down"
   ]
  },
  {
   "cell_type": "code",
   "execution_count": null,
   "id": "96d1537e",
   "metadata": {},
   "outputs": [],
   "source": [
    "# range()\n",
    "print(list(range(10)))\n"
   ]
  },
  {
   "cell_type": "code",
   "execution_count": null,
   "id": "3d0d39d1",
   "metadata": {},
   "outputs": [],
   "source": [
    "### display the numbers starting at 100 and going to 2 counting down by 2\n",
    "\n"
   ]
  },
  {
   "cell_type": "markdown",
   "id": "f69229ae",
   "metadata": {},
   "source": [
    "#### for\n",
    "\n",
    "for <val> in <iterable>:\n",
    "    body\n",
    "\n",
    "The for loop will iterate for as many items are in the iterable\n",
    "\n",
    "Iterables can be - lists or strings4"
   ]
  },
  {
   "cell_type": "code",
   "execution_count": null,
   "id": "5a65cc3f",
   "metadata": {},
   "outputs": [],
   "source": [
    "# for\n",
    "for i in 'abc':\n",
    "    print(i)"
   ]
  },
  {
   "cell_type": "code",
   "execution_count": null,
   "id": "9abda154",
   "metadata": {},
   "outputs": [],
   "source": [
    "# calculate a factorial with a for loop"
   ]
  },
  {
   "cell_type": "markdown",
   "id": "66e4d5a9",
   "metadata": {},
   "source": [
    "#### while\n",
    "\n",
    "while <conditional>:\n",
    "    body\n",
    "\n",
    "In the body of a while loop, you must get closer to making the conditional false\n"
   ]
  },
  {
   "cell_type": "code",
   "execution_count": null,
   "id": "03610044",
   "metadata": {},
   "outputs": [],
   "source": [
    "# while\n",
    "a = 10\n",
    "while a > 1:\n",
    "    print(a)\n",
    "    a = a - 1\n"
   ]
  },
  {
   "cell_type": "code",
   "execution_count": null,
   "id": "6b83815d",
   "metadata": {},
   "outputs": [],
   "source": [
    "# calculate a factorial with a whle loop"
   ]
  },
  {
   "cell_type": "code",
   "execution_count": null,
   "id": "dd711dc2",
   "metadata": {},
   "outputs": [],
   "source": [
    "# augmented assignment\n",
    "a = 5\n",
    "a = a + 1\n",
    "print(\"a is\", a)\n",
    "\n",
    "# is the same as\n",
    "b = 5\n",
    "b += 1\n",
    "print(\"b is\", b)"
   ]
  },
  {
   "cell_type": "markdown",
   "id": "cce7d78b",
   "metadata": {},
   "source": [
    "#### sentinel control\n",
    "\n",
    "Sentinels are a special value that signals the terminal of a loop\n",
    "\n",
    "go = \"Y\"\n",
    "while go == \"Y\":\n",
    "    body\n",
    "    go = input(\"continue? Y or N\")\n",
    "    "
   ]
  },
  {
   "cell_type": "code",
   "execution_count": null,
   "id": "a07f5457",
   "metadata": {},
   "outputs": [],
   "source": [
    "# sentinel control in a while loop\n",
    "\n",
    "go = \"Y\"\n",
    "while go == \"Y\":\n",
    "    print(\"continued\")\n",
    "    go = input(\"continue? Y or N\")\n",
    "print(\"ended\")\n"
   ]
  },
  {
   "cell_type": "code",
   "execution_count": null,
   "id": "46179dac",
   "metadata": {},
   "outputs": [],
   "source": [
    "## write a function that accepts a user number and diplays that number * 5\n",
    "## it must use sentinel control, asking the user if they want to continue"
   ]
  },
  {
   "cell_type": "markdown",
   "id": "44fb885c",
   "metadata": {},
   "source": [
    "#### Nested control\n",
    "\n",
    "for i in <iterable>:\n",
    "    if <conditional>:\n",
    "        do something\n",
    "    else:\n",
    "        do something else\n",
    "\n",
    "Remember, indentation is important"
   ]
  },
  {
   "cell_type": "code",
   "execution_count": null,
   "id": "19e9c0a6",
   "metadata": {},
   "outputs": [],
   "source": [
    "### Write a function that sorts a list of numbers into even and odds. The list should be generated with range()"
   ]
  },
  {
   "cell_type": "markdown",
   "id": "911cee10",
   "metadata": {},
   "source": [
    "#### break\n",
    "\n",
    "break is used to stop iteration immediately - the loop discontinues at the break point"
   ]
  },
  {
   "cell_type": "code",
   "execution_count": null,
   "id": "3cba881d",
   "metadata": {},
   "outputs": [],
   "source": [
    "# break\n",
    "\n",
    "alist = [1,2,3,4,-1,6,7]\n",
    "for i in alist:\n",
    "    print(\"an iteration\")\n",
    "    if i > 0:\n",
    "        print(i)\n",
    "    else:\n",
    "        break\n",
    "        print(\"we'll never see this print because the break stop the iteration\")\n"
   ]
  },
  {
   "cell_type": "code",
   "execution_count": null,
   "id": "32548f2f",
   "metadata": {},
   "outputs": [],
   "source": [
    "# comparing break and sentinel control\n",
    "cont = \"Y\"\n",
    "num = 1\n",
    "while cont ==\"Y\":\n",
    "    print(\"an iteration\")\n",
    "    if num <= 5:\n",
    "        print(num)\n",
    "        num = num + 1\n",
    "    else:\n",
    "        cont = \"N\"\n",
    "        print(\"we finish the iteration after the sentinel change - we have to make the while conditional false\")\n"
   ]
  },
  {
   "cell_type": "markdown",
   "id": "e4c0a67b",
   "metadata": {},
   "source": [
    "#### continue\n",
    "\n",
    "continue is used to force the next iteration at that point"
   ]
  },
  {
   "cell_type": "code",
   "execution_count": null,
   "id": "3ea2cb55",
   "metadata": {},
   "outputs": [],
   "source": [
    "alist = [1,2,3,4,-1,6,7]\n",
    "for i in alist:\n",
    "    print(\"an iteration\")\n",
    "    if i > 0:\n",
    "        print(i)\n",
    "    else:\n",
    "        print(\"oh no! a negative number was detected\")\n",
    "        continue\n",
    "        print(\"we'll never see this print because the continue goes directly to the next iteration\")"
   ]
  }
 ],
 "metadata": {
  "kernelspec": {
   "display_name": "base",
   "language": "python",
   "name": "python3"
  },
  "language_info": {
   "codemirror_mode": {
    "name": "ipython",
    "version": 3
   },
   "file_extension": ".py",
   "mimetype": "text/x-python",
   "name": "python",
   "nbconvert_exporter": "python",
   "pygments_lexer": "ipython3",
   "version": "3.12.2"
  }
 },
 "nbformat": 4,
 "nbformat_minor": 5
}
