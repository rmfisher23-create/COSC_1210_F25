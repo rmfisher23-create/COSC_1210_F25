{
 "cells": [
  {
   "cell_type": "markdown",
   "id": "6bd64481",
   "metadata": {},
   "source": [
    "#### Selections and Looping"
   ]
  },
  {
   "cell_type": "markdown",
   "id": "24bc17b6",
   "metadata": {},
   "source": [
    "Objectives\n",
    "- decide whether to execute actions with if, if..elif..else, and if..else\n",
    "- execute statements repeatedly with for and while\n",
    "- use augmented assignment\n",
    "- use the range function and its parameters\n",
    "- perform sentinel control in a while loop\n",
    "- distinguish top-down and bottom-up problem solving\n",
    "- create complex conditionals\n",
    "- stop looping with break and force next iteration with continue"
   ]
  },
  {
   "cell_type": "raw",
   "id": "69301c8f",
   "metadata": {
    "vscode": {
     "languageId": "raw"
    }
   },
   "source": [
    "if, if/else, if/elif/else\n",
    "\n",
    "Selections in python\n",
    "if <conditional>:\n",
    "    statement\n",
    "else: \n",
    "    statement\n",
    "\n",
    "if <conditional>:\n",
    "    statement\n",
    "elif <conditional>:\n",
    "    statement\n",
    "elif <conditional>\"\n",
    "    statement\n",
    "else:\n",
    "    statement\n"
   ]
  },
  {
   "cell_type": "code",
   "execution_count": null,
   "id": "c8cae2fa",
   "metadata": {},
   "outputs": [],
   "source": [
    "# if, if/else, if/elif/else\n",
    "def main():\n",
    "    "
   ]
  },
  {
   "cell_type": "code",
   "execution_count": null,
   "id": "a5bb9098",
   "metadata": {},
   "outputs": [
    {
     "name": "stdout",
     "output_type": "stream",
     "text": [
      "paper\n"
     ]
    }
   ],
   "source": [
    "# write a program that determines the result of a rock paper scissors game\n",
    "# use the random_throw() function to get a random choice of rock paper scissors from the computer\n",
    "# \n",
    "import random as rand\n",
    "\n",
    "def random_throw():\n",
    "    '''selects a random item from rock, paper, scissors\n",
    "    returns string to user''' \n",
    "    choices = ['rock', 'paper', 'scissors']\n",
    "    return rand.choice(choices)\n",
    "\n",
    "## print(random_throw()) # successful test random_throw()\n",
    "\n",
    "def main():\n",
    "    '''rock paper scissors'''\n",
    "    computer_choice = random_throw()\n",
    "\n",
    "main()"
   ]
  },
  {
   "cell_type": "code",
   "execution_count": null,
   "id": "96d1537e",
   "metadata": {},
   "outputs": [],
   "source": [
    "# range()"
   ]
  },
  {
   "cell_type": "code",
   "execution_count": null,
   "id": "5a65cc3f",
   "metadata": {},
   "outputs": [],
   "source": [
    "# for"
   ]
  },
  {
   "cell_type": "code",
   "execution_count": null,
   "id": "9abda154",
   "metadata": {},
   "outputs": [],
   "source": [
    "# calculate a factorial with a for loop"
   ]
  },
  {
   "cell_type": "code",
   "execution_count": null,
   "id": "03610044",
   "metadata": {},
   "outputs": [],
   "source": [
    "# while"
   ]
  },
  {
   "cell_type": "code",
   "execution_count": null,
   "id": "6b83815d",
   "metadata": {},
   "outputs": [],
   "source": [
    "# calculate a factorial with a whle loop"
   ]
  },
  {
   "cell_type": "code",
   "execution_count": null,
   "id": "dd711dc2",
   "metadata": {},
   "outputs": [
    {
     "name": "stdout",
     "output_type": "stream",
     "text": [
      "6\n",
      "6\n"
     ]
    }
   ],
   "source": [
    "# augmented assignment\n",
    "a = 5\n",
    "a = a + 1\n",
    "print(\"a is\", a)\n",
    "\n",
    "# is the same as\n",
    "b = 5\n",
    "b += 1\n",
    "print(\"b is\", b)"
   ]
  },
  {
   "cell_type": "code",
   "execution_count": null,
   "id": "a07f5457",
   "metadata": {},
   "outputs": [],
   "source": [
    "# sentinel control in a while loop"
   ]
  },
  {
   "cell_type": "code",
   "execution_count": null,
   "id": "daf12652",
   "metadata": {},
   "outputs": [],
   "source": [
    "# top-down v bottom-up problem solving"
   ]
  },
  {
   "cell_type": "code",
   "execution_count": null,
   "id": "693354ec",
   "metadata": {},
   "outputs": [],
   "source": [
    "# complex conditionals"
   ]
  },
  {
   "cell_type": "code",
   "execution_count": null,
   "id": "3cba881d",
   "metadata": {},
   "outputs": [],
   "source": [
    "# break and continue"
   ]
  }
 ],
 "metadata": {
  "kernelspec": {
   "display_name": "base",
   "language": "python",
   "name": "python3"
  },
  "language_info": {
   "codemirror_mode": {
    "name": "ipython",
    "version": 3
   },
   "file_extension": ".py",
   "mimetype": "text/x-python",
   "name": "python",
   "nbconvert_exporter": "python",
   "pygments_lexer": "ipython3",
   "version": "3.12.2"
  }
 },
 "nbformat": 4,
 "nbformat_minor": 5
}
