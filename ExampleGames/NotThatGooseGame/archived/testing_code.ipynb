{
 "cells": [
  {
   "cell_type": "code",
   "execution_count": null,
   "id": "072d4ac2",
   "metadata": {},
   "outputs": [
    {
     "name": "stdout",
     "output_type": "stream",
     "text": [
      "Inside function (reassigned): [1, 2, 3, 5]\n",
      "Outside function (after reassign): [1, 2, 3, 5]\n"
     ]
    }
   ],
   "source": [
    "my_list = [1, 2, 3]\n",
    "\n",
    "def reassign_list(a_list):\n",
    "    a_list.append(5)\n",
    "    print(f\"Inside function (reassigned): {a_list}\")\n",
    "\n",
    "reassign_list(my_list)\n",
    "print(f\"Outside function (after reassign): {my_list}\")"
   ]
  },
  {
   "cell_type": "code",
   "execution_count": 2,
   "id": "da7d8492",
   "metadata": {},
   "outputs": [
    {
     "name": "stdout",
     "output_type": "stream",
     "text": [
      "Inside function (reassigned): [5, 6, 7]\n",
      "Outside function (after reassign): [1, 2, 3]\n"
     ]
    }
   ],
   "source": [
    "my_list = [1, 2, 3]\n",
    "\n",
    "def reassign_list(a_list):\n",
    "    a_list = [5, 6, 7]  # Creates a new local list\n",
    "    print(f\"Inside function (reassigned): {a_list}\")\n",
    "\n",
    "reassign_list(my_list)\n",
    "print(f\"Outside function (after reassign): {my_list}\")"
   ]
  },
  {
   "cell_type": "code",
   "execution_count": 6,
   "id": "3b0c913e",
   "metadata": {},
   "outputs": [
    {
     "name": "stdout",
     "output_type": "stream",
     "text": [
      "The areas of a circle with the radius 5.0 is: \n",
      "78.53981633974483\n"
     ]
    }
   ],
   "source": [
    "import math\n",
    "PI = math.pi\n",
    "\n",
    "def area(radius):\n",
    "   theArea = PI * radius**2\n",
    "   return theArea\n",
    "\n",
    "def getInput(prompt, hist_prompts):\n",
    "   x = input(prompt)\n",
    "   hist_prompts.append(prompt)\n",
    "   return x\n",
    "\n",
    "def showOutput(val, hist_outputs):\n",
    "   hist_outputs.append(val)\n",
    "   print(val)\n",
    "\n",
    "def main():\n",
    "   historyOfPrompts = []\n",
    "   historyOfOutputs = []\n",
    "   rString = getInput(\"Enter the radius of a circle: \", historyOfPrompts)\n",
    "   r = float(rString)\n",
    "   val = area(r)\n",
    "   print(\"The areas of a circle with the radius\", r, \"is: \")\n",
    "   showOutput(str(val), historyOfOutputs)\n",
    "main()"
   ]
  }
 ],
 "metadata": {
  "kernelspec": {
   "display_name": "base",
   "language": "python",
   "name": "python3"
  },
  "language_info": {
   "codemirror_mode": {
    "name": "ipython",
    "version": 3
   },
   "file_extension": ".py",
   "mimetype": "text/x-python",
   "name": "python",
   "nbconvert_exporter": "python",
   "pygments_lexer": "ipython3",
   "version": "3.12.2"
  }
 },
 "nbformat": 4,
 "nbformat_minor": 5
}
