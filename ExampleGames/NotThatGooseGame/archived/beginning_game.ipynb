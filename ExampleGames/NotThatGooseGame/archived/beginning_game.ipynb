{
 "cells": [
  {
   "cell_type": "code",
   "execution_count": null,
   "id": "ed04c240",
   "metadata": {},
   "outputs": [
    {
     "name": "stdout",
     "output_type": "stream",
     "text": [
      "pygame 2.6.1 (SDL 2.28.4, Python 3.12.2)\n",
      "Hello from the pygame community. https://www.pygame.org/contribute.html\n"
     ]
    },
    {
     "ename": "ImportError",
     "evalue": "cannot import name 'load_player_image_left' from 'adventure_functions' (/Users/colsonmanning/Dropbox/github_repositories/COSC1210_F25_CFOM/NotThatGooseGame/adventure_functions.py)",
     "output_type": "error",
     "traceback": [
      "\u001b[0;31m---------------------------------------------------------------------------\u001b[0m",
      "\u001b[0;31mImportError\u001b[0m                               Traceback (most recent call last)",
      "Cell \u001b[0;32mIn[1], line 4\u001b[0m\n\u001b[1;32m      2\u001b[0m \u001b[38;5;28;01mimport\u001b[39;00m \u001b[38;5;21;01mconfig\u001b[39;00m\n\u001b[1;32m      3\u001b[0m \u001b[38;5;28;01mimport\u001b[39;00m \u001b[38;5;21;01mos\u001b[39;00m\n\u001b[0;32m----> 4\u001b[0m \u001b[38;5;28;01mfrom\u001b[39;00m \u001b[38;5;21;01madventure_functions\u001b[39;00m \u001b[38;5;28;01mimport\u001b[39;00m (\n\u001b[1;32m      5\u001b[0m     draw_room, is_blocked, draw_obstacle, draw_player, load_player_image_left, load_player_image_right, show_game_over, simple_room\n\u001b[1;32m      6\u001b[0m )\n\u001b[1;32m      8\u001b[0m \u001b[38;5;28;01mdef\u001b[39;00m \u001b[38;5;21mmain\u001b[39m():\n\u001b[1;32m      9\u001b[0m     pygame\u001b[38;5;241m.\u001b[39minit()\n",
      "\u001b[0;31mImportError\u001b[0m: cannot import name 'load_player_image_left' from 'adventure_functions' (/Users/colsonmanning/Dropbox/github_repositories/COSC1210_F25_CFOM/NotThatGooseGame/adventure_functions.py)"
     ]
    }
   ],
   "source": [
    "import pygame\n",
    "import config\n",
    "import os\n",
    "from adventure_functions import (\n",
    "    draw_room, is_blocked, draw_obstacle, draw_player, load_player_image_left, load_player_image_right, \n",
    "    show_game_over, simple_room\n",
    ")\n",
    "\n",
    "def main():\n",
    "    pygame.init()\n",
    "    screen = pygame.display.set_mode((config.WIDTH, config.HEIGHT))\n",
    "    pygame.display.set_caption(\"3x3 Adventure Grid\")\n",
    "    clock = pygame.time.Clock()\n",
    "\n",
    "    # Load the sprite ONCE\n",
    "    load_player_image_left()\n",
    "\n",
    "    player_x = config.WIDTH // 2\n",
    "    player_y = config.HEIGHT // 2\n",
    "\n",
    "    running = True\n",
    "    while running:\n",
    "        dt = clock.tick(config.FPS) / 1000.0\n",
    "        \n",
    "        keys = pygame.key.get_pressed()\n",
    "        for event in pygame.event.get():\n",
    "            if keys[pygame.K_ESCAPE]:\n",
    "                show_game_over(screen)\n",
    "                return\n",
    "                running = False\n",
    "                show_game_over(screen)\n",
    "            #if player_x < 50 and player_y < 50:\n",
    "            #    running = False\n",
    "            #    show_game_over(screen)\n",
    "        # non-ESP Input\n",
    "        dx = dy = 0\n",
    "        if keys[pygame.K_LEFT] or keys[pygame.K_a]: \n",
    "            dx = -1\n",
    "            load_player_image(\"L\")\n",
    "        if keys[pygame.K_RIGHT] or keys[pygame.K_d]: \n",
    "            dx = 1\n",
    "            load_player_image(\"R\")\n",
    "        if keys[pygame.K_UP] or keys[pygame.K_w]: dy = -1\n",
    "        if keys[pygame.K_DOWN] or keys[pygame.K_s]: dy = 1\n",
    "        if dx != 0 and dy != 0:\n",
    "            dx *= 0.7071\n",
    "            dy *= 0.7071\n",
    "\n",
    "        new_x = player_x + dx * config.PLAYER_SPEED * dt\n",
    "        new_y = player_y + dy * config.PLAYER_SPEED * dt\n",
    "\n",
    "        # Movement with collision\n",
    "        if not is_blocked(new_x, new_y):\n",
    "            player_x, player_y = new_x, new_y\n",
    "\n",
    "        # Draw everything\n",
    "        screen.fill(config.BG_COLOR)\n",
    "\n",
    "        # Rooms/walls first\n",
    "        for row in range(config.GRID_ROWS):\n",
    "            for col in range(config.GRID_COLS):\n",
    "                simple_room(screen, row, col)\n",
    "                #draw_room(screen, row, col)\n",
    "\n",
    "        # Any extra decor/obstacles\n",
    "        draw_obstacle(screen)\n",
    "\n",
    "        # Then the player\n",
    "        draw_player(screen, player_x, player_y)\n",
    "\n",
    "        pygame.display.flip()\n",
    "\n",
    "    pygame.quit()\n",
    "    os._exit\n",
    "    #sys.exit()\n",
    "\n",
    "if __name__ == \"__main__\":\n",
    "    main()\n"
   ]
  }
 ],
 "metadata": {
  "kernelspec": {
   "display_name": "base",
   "language": "python",
   "name": "python3"
  },
  "language_info": {
   "codemirror_mode": {
    "name": "ipython",
    "version": 3
   },
   "file_extension": ".py",
   "mimetype": "text/x-python",
   "name": "python",
   "nbconvert_exporter": "python",
   "pygments_lexer": "ipython3",
   "version": "3.12.2"
  }
 },
 "nbformat": 4,
 "nbformat_minor": 5
}
